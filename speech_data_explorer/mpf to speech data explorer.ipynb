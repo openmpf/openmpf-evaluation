{
 "cells": [
  {
   "cell_type": "code",
   "execution_count": null,
   "metadata": {},
   "outputs": [],
   "source": [
    "import json"
   ]
  },
  {
   "cell_type": "code",
   "execution_count": null,
   "metadata": {},
   "outputs": [],
   "source": [
    "with open(\"audio_results/output.aes1.ss010.aes1.ss041.aes1.ss016.aes1.ss012.json\") as f:\n",
    "    mpf_json = json.load(f)\n"
   ]
  },
  {
   "cell_type": "code",
   "execution_count": null,
   "metadata": {},
   "outputs": [],
   "source": [
    "# the 3 fields the speech data expolerer needs are audio_filepath, duration, and text, we also include pred_text\n",
    "# to calculate error metrics\n",
    "# custom fields we've added are timestamps and pred_timestamps\n",
    "\n",
    "\n",
    "results = mpf_json[\"media\"][0][\"output\"][\"SPEECH\"]\n",
    "start_time_list = []\n",
    "start_time_dict = {}\n",
    "\n",
    "# openMPF does time in ms, speech data explorer expects seconds\n",
    "duration = int(mpf_json[\"media\"][0][\"mediaMetadata\"][\"DURATION\"]) / 1000.0 \n",
    "path = mpf_json[\"media\"][0][\"path\"]\n",
    "print(duration)\n",
    "print(path)\n",
    "\n",
    "i=0\n",
    "\n",
    "# need to put output in chronological order to create the pred_text and pred_timestamp strings\n",
    "# currently both timestamps and pred_timestamps are in ms\n",
    "for entry in results:\n",
    "    print(i)\n",
    "    for track in entry[\"tracks\"]:\n",
    "        confidence = track[\"confidence\"]\n",
    "        # drop low confidence detections\n",
    "        if confidence <= .5:\n",
    "            continue\n",
    "        start_time = track[\"startOffsetTime\"]\n",
    "        stop_time = track[\"stopOffsetTime\"]\n",
    "        transcript = track[\"detections\"][0][\"detectionProperties\"][\"TRANSCRIPT\"]\n",
    "        print(start_time, stop_time, transcript)\n",
    "        start_time_list.append(start_time)\n",
    "        start_time_dict[start_time] = (stop_time, transcript)\n",
    "    i += 1\n",
    "        \n",
    "        \n",
    "start_time_list = start_time_list\n",
    "        \n",
    "print(start_time_list)\n",
    "print(start_time_dict)\n",
    "        "
   ]
  },
  {
   "cell_type": "code",
   "execution_count": null,
   "metadata": {},
   "outputs": [],
   "source": [
    "transcript = \"\"\n",
    "timestamps = \"\"\n",
    "for start_time in start_time_list:\n",
    "    timestamps += str(start_time) + \"-\" + str(stop_time) + \", \"\n",
    "    \n",
    "    transcript += start_time_dict[start_time][1] + \" \"\n",
    "    \n",
    "timestamps = timestamps.strip(\", \")\n",
    "transcript = transcript.strip(\" \")\n",
    "    \n",
    "print(transcript)\n",
    "print()\n",
    "print(timestamps)"
   ]
  },
  {
   "cell_type": "code",
   "execution_count": null,
   "metadata": {},
   "outputs": [],
   "source": [
    "# currently missing text and timestamps, these will come from the ground truth files\n",
    "# place holders for text and timestamps\n",
    "\n",
    "text = \"text place holder\"\n",
    "timestamps = \"0-1, 1-2, 2-3\"\n",
    "\n",
    "output_dict = {\"audio_filepath\": path, \"duration\": duration, \"text\": text, \"pred_text\": transcript, \"timestamps\": timestamps, \"pred_timestamps\": timestamps}\n",
    "print(output_dict)\n",
    "json_dump = json.dumps(output_dict)"
   ]
  },
  {
   "cell_type": "code",
   "execution_count": null,
   "metadata": {},
   "outputs": [],
   "source": [
    "# format the speech data explorer takes is one json object per line\n",
    "with open(\"test_input_json.json\", 'w') as outfile1:\n",
    "    i = 0\n",
    "    while i < 3:\n",
    "        print(json_dump, file=outfile1)\n",
    "        i += 1"
   ]
  },
  {
   "cell_type": "code",
   "execution_count": null,
   "metadata": {},
   "outputs": [],
   "source": [
    "# testing the file was succesfully created and can be read in\n",
    "with open(\"test_input_json.json\", 'r', encoding='utf8') as f:\n",
    "        for line in f:\n",
    "            item = json.loads(line)\n",
    "            print(item)"
   ]
  },
  {
   "cell_type": "code",
   "execution_count": null,
   "metadata": {},
   "outputs": [],
   "source": []
  }
 ],
 "metadata": {
  "kernelspec": {
   "display_name": "Python 3",
   "language": "python",
   "name": "python3"
  },
  "language_info": {
   "codemirror_mode": {
    "name": "ipython",
    "version": 3
   },
   "file_extension": ".py",
   "mimetype": "text/x-python",
   "name": "python",
   "nbconvert_exporter": "python",
   "pygments_lexer": "ipython3",
   "version": "3.7.3"
  }
 },
 "nbformat": 4,
 "nbformat_minor": 2
}
